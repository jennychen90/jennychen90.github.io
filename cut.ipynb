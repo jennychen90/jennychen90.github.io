{
 "cells": [
  {
   "cell_type": "code",
   "execution_count": 13,
   "id": "69998b5d-904e-4838-98fd-e0fa91a16a26",
   "metadata": {},
   "outputs": [
    {
     "name": "stdout",
     "output_type": "stream",
     "text": [
      "Moviepy - Building video 不是三振10.mp4.\n",
      "MoviePy - Writing audio in 不是三振10TEMP_MPY_wvf_snd.mp3\n"
     ]
    },
    {
     "name": "stderr",
     "output_type": "stream",
     "text": [
      "                                                                    \r"
     ]
    },
    {
     "name": "stdout",
     "output_type": "stream",
     "text": [
      "MoviePy - Done.\n",
      "Moviepy - Writing video 不是三振10.mp4\n",
      "\n"
     ]
    },
    {
     "name": "stderr",
     "output_type": "stream",
     "text": [
      "                                                              \r"
     ]
    },
    {
     "name": "stdout",
     "output_type": "stream",
     "text": [
      "Moviepy - Done !\n",
      "Moviepy - video ready 不是三振10.mp4\n",
      "ok\n"
     ]
    }
   ],
   "source": [
    "from moviepy.editor import VideoFileClip\n",
    "video = VideoFileClip(\"00.mp4\")  # 影片檔名\n",
    "start_hour = 0\n",
    "start_minute =33  # 起始分钟\n",
    "start_second = 8 # 起始秒数ˋ\n",
    "end_hour = 0  #结束小时\n",
    "end_minute = 33 # 结束分钟\n",
    "end_second = 25# 结束秒数\n",
    "start_time = start_hour * 3600 + start_minute * 60 + start_second\n",
    "end_time = end_hour * 3600 + end_minute * 60 + end_second\n",
    "output = video.subclip(start_time,end_time)\n",
    "output.write_videofile(\"不是三振10.mp4\")\n",
    "print('ok')\n"
   ]
  },
  {
   "cell_type": "code",
   "execution_count": null,
   "id": "a17d55fb-bb3b-4833-819a-1704d4acd447",
   "metadata": {},
   "outputs": [],
   "source": []
  }
 ],
 "metadata": {
  "kernelspec": {
   "display_name": "Python 3 (ipykernel)",
   "language": "python",
   "name": "python3"
  },
  "language_info": {
   "codemirror_mode": {
    "name": "ipython",
    "version": 3
   },
   "file_extension": ".py",
   "mimetype": "text/x-python",
   "name": "python",
   "nbconvert_exporter": "python",
   "pygments_lexer": "ipython3",
   "version": "3.10.12"
  }
 },
 "nbformat": 4,
 "nbformat_minor": 5
}
