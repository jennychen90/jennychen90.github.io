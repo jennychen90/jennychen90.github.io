{
 "cells": [
  {
   "cell_type": "code",
   "execution_count": 9,
   "id": "3aefab2d-3b51-467d-8da3-1ae3ecddf72e",
   "metadata": {},
   "outputs": [],
   "source": [
    "import csv\n",
    "def extract_rows_by_frame(input_filename, output_filename, target_frame):\n",
    "    with open(input_filename, 'r', newline='') as csvfile:\n",
    "        reader = csv.reader(csvfile)\n",
    "        header = next(reader)  # Read the header row\n",
    "\n",
    "        # Filter rows with the target frame\n",
    "        filtered_rows = [row for row in reader if int(row[0]) == target_frame]\n",
    "\n",
    "    # Write the filtered rows to a new CSV file\n",
    "    with open(output_filename, 'w', newline='') as outfile:\n",
    "        writer = csv.writer(outfile)\n",
    "        writer.writerow(header)\n",
    "        writer.writerows(filtered_rows)\n",
    "\n",
    "# Replace 'csvtest.csv' with the actual filename and 'x' with the desired frame number\n",
    "frame_num = 21\n",
    "extract_rows_by_frame('csvtest3.csv', str(frame_num)+'.csv', frame_num) #前面是輸入的檔名後面是輸出數字是frame\n"
   ]
  },
  {
   "cell_type": "code",
   "execution_count": null,
   "id": "a9cacd2f-8264-4449-bf02-da7ea7e9102d",
   "metadata": {},
   "outputs": [],
   "source": []
  }
 ],
 "metadata": {
  "kernelspec": {
   "display_name": "Python 3 (ipykernel)",
   "language": "python",
   "name": "python3"
  },
  "language_info": {
   "codemirror_mode": {
    "name": "ipython",
    "version": 3
   },
   "file_extension": ".py",
   "mimetype": "text/x-python",
   "name": "python",
   "nbconvert_exporter": "python",
   "pygments_lexer": "ipython3",
   "version": "3.10.6"
  }
 },
 "nbformat": 4,
 "nbformat_minor": 5
}
