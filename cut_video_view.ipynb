{
 "cells": [
  {
   "cell_type": "code",
   "execution_count": 1,
   "id": "eaf755b1-b606-4437-8bde-76efb5a9111b",
   "metadata": {},
   "outputs": [
    {
     "ename": "NameError",
     "evalue": "name 'input_file' is not defined",
     "output_type": "error",
     "traceback": [
      "\u001b[0;31m---------------------------------------------------------------------------\u001b[0m",
      "\u001b[0;31mNameError\u001b[0m                                 Traceback (most recent call last)",
      "Input \u001b[0;32mIn [7]\u001b[0m, in \u001b[0;36m<cell line: 6>\u001b[0;34m()\u001b[0m\n\u001b[1;32m      4\u001b[0m input_folder \u001b[38;5;241m=\u001b[39m \u001b[38;5;124m'\u001b[39m\u001b[38;5;124mInitial\u001b[39m\u001b[38;5;124m'\u001b[39m\n\u001b[1;32m      5\u001b[0m output_folder \u001b[38;5;241m=\u001b[39m \u001b[38;5;124m\"\u001b[39m\u001b[38;5;124mresize\u001b[39m\u001b[38;5;124m\"\u001b[39m\n\u001b[0;32m----> 6\u001b[0m cap \u001b[38;5;241m=\u001b[39m cv2\u001b[38;5;241m.\u001b[39mVideoCapture(\u001b[43minput_file\u001b[49m)\n\u001b[1;32m      7\u001b[0m file_list \u001b[38;5;241m=\u001b[39m os\u001b[38;5;241m.\u001b[39mlistdir(input_folder)\n\u001b[1;32m      8\u001b[0m video_width \u001b[38;5;241m=\u001b[39m \u001b[38;5;28mint\u001b[39m(cap\u001b[38;5;241m.\u001b[39mget(\u001b[38;5;241m3\u001b[39m))\n",
      "\u001b[0;31mNameError\u001b[0m: name 'input_file' is not defined"
     ]
    }
   ],
   "source": [
    "import os\n",
    "from moviepy.editor import VideoFileClip\n",
    "\n",
    "input_folder = 'Initial'\n",
    "output_folder = \"resize\"\n",
    "\n",
    "file_list = os.listdir(input_folder)\n",
    "\n",
    "for file_name in file_list:\n",
    "    if file_name.endswith(\".avi\"):\n",
    "        start_x = int(video_width / 2 - video_width / (2 * scale_factor)) -75\n",
    "        start_y = int(video_height / 2 - video_height / (2 * scale_factor))\n",
    "        end_x = int(video_width / 2 + video_width / (2 * scale_factor)) -75\n",
    "        end_y = int(video_height / 2 + video_height / (2 * scale_factor))\n",
    "        input_file = os.path.join(input_folder, file_name)\n",
    "        output_file = os.path.join(output_folder, file_name)\n",
    "        video = VideoFileClip(input_file)\n",
    "        cropped_video = video.crop(x1=start_x, y1=start_y, x2=end_x, y2=end_y)\n",
    "        resized_video = cropped_video.resize(height=2160, width=3840)\n",
    "        resized_video.write_videofile(output_file, codec=\"libx264\", audio_codec=\"aac\")"
   ]
  },
  {
   "cell_type": "code",
   "execution_count": 9,
   "id": "840e2fb5-3c21-4304-b1f8-446f82151703",
   "metadata": {},
   "outputs": [
    {
     "ename": "KeyboardInterrupt",
     "evalue": "",
     "output_type": "error",
     "traceback": [
      "\u001b[0;31m---------------------------------------------------------------------------\u001b[0m",
      "\u001b[0;31mKeyboardInterrupt\u001b[0m                         Traceback (most recent call last)",
      "Input \u001b[0;32mIn [9]\u001b[0m, in \u001b[0;36m<cell line: 30>\u001b[0;34m()\u001b[0m\n\u001b[1;32m     31\u001b[0m input_avi_file \u001b[38;5;241m=\u001b[39m \u001b[38;5;124m\"\u001b[39m\u001b[38;5;124mInitial/4.avi\u001b[39m\u001b[38;5;124m\"\u001b[39m  \u001b[38;5;66;03m# 輸入的AVI文件路徑\u001b[39;00m\n\u001b[1;32m     32\u001b[0m output_mp4_file \u001b[38;5;241m=\u001b[39m \u001b[38;5;124m\"\u001b[39m\u001b[38;5;124mresize/4.mp4\u001b[39m\u001b[38;5;124m\"\u001b[39m  \u001b[38;5;66;03m# 輸出的MP4文件路徑\u001b[39;00m\n\u001b[0;32m---> 34\u001b[0m \u001b[43mavi_to_mp4\u001b[49m\u001b[43m(\u001b[49m\u001b[43minput_avi_file\u001b[49m\u001b[43m,\u001b[49m\u001b[43m \u001b[49m\u001b[43moutput_mp4_file\u001b[49m\u001b[43m)\u001b[49m\n",
      "Input \u001b[0;32mIn [9]\u001b[0m, in \u001b[0;36mavi_to_mp4\u001b[0;34m(input_file, output_file)\u001b[0m\n\u001b[1;32m     19\u001b[0m         \u001b[38;5;28;01mbreak\u001b[39;00m\n\u001b[1;32m     21\u001b[0m     \u001b[38;5;66;03m# 寫入幀到MP4文件\u001b[39;00m\n\u001b[0;32m---> 22\u001b[0m     \u001b[43mout\u001b[49m\u001b[38;5;241;43m.\u001b[39;49m\u001b[43mwrite\u001b[49m\u001b[43m(\u001b[49m\u001b[43mframe\u001b[49m\u001b[43m)\u001b[49m\n\u001b[1;32m     24\u001b[0m \u001b[38;5;66;03m# 釋放VideoCapture和VideoWriter對象\u001b[39;00m\n\u001b[1;32m     25\u001b[0m cap\u001b[38;5;241m.\u001b[39mrelease()\n",
      "\u001b[0;31mKeyboardInterrupt\u001b[0m: "
     ]
    }
   ],
   "source": [
    "import cv2\n",
    "\n",
    "def avi_to_mp4(input_file, output_file):\n",
    "    # 打開AVI文件\n",
    "    cap = cv2.VideoCapture(input_file)\n",
    "\n",
    "    # 獲取視頻的基本信息\n",
    "    frame_width = int(cap.get(3))\n",
    "    frame_height = int(cap.get(4))\n",
    "    fps = int(cap.get(cv2.CAP_PROP_FPS))\n",
    "\n",
    "    # 設置VideoWriter來寫入MP4文件\n",
    "    out = cv2.VideoWriter(output_file, cv2.VideoWriter_fourcc(*'mp4v'), fps, (frame_width, frame_height))\n",
    "\n",
    "    while True:\n",
    "        ret, frame = cap.read()  # 讀取每一幀\n",
    "\n",
    "        if not ret:\n",
    "            break\n",
    "\n",
    "        # 寫入幀到MP4文件\n",
    "        out.write(frame)\n",
    "\n",
    "    # 釋放VideoCapture和VideoWriter對象\n",
    "    cap.release()\n",
    "    out.release()\n",
    "\n",
    "    print(\"轉換完成！\")\n",
    "\n",
    "if __name__ == \"__main__\":\n",
    "    input_avi_file = \"Initial/4.avi\"  # 輸入的AVI文件路徑\n",
    "    output_mp4_file = \"resize/4.mp4\"  # 輸出的MP4文件路徑\n",
    "\n",
    "    avi_to_mp4(input_avi_file, output_mp4_file)\n"
   ]
  },
  {
   "cell_type": "code",
   "execution_count": 11,
   "id": "64c8b331-8622-4941-9c49-394403f580ae",
   "metadata": {},
   "outputs": [
    {
     "name": "stdout",
     "output_type": "stream",
     "text": [
      "Moviepy - Building video resize/4.mp4.\n",
      "MoviePy - Writing audio in 4TEMP_MPY_wvf_snd.mp4\n"
     ]
    },
    {
     "name": "stderr",
     "output_type": "stream",
     "text": [
      "                                                        \r"
     ]
    },
    {
     "name": "stdout",
     "output_type": "stream",
     "text": [
      "MoviePy - Done.\n",
      "Moviepy - Writing video resize/4.mp4\n",
      "\n"
     ]
    },
    {
     "name": "stderr",
     "output_type": "stream",
     "text": [
      "                                                              \r"
     ]
    },
    {
     "name": "stdout",
     "output_type": "stream",
     "text": [
      "Moviepy - Done !\n",
      "Moviepy - video ready resize/4.mp4\n"
     ]
    }
   ],
   "source": [
    "import os\n",
    "from moviepy.editor import VideoFileClip\n",
    "\n",
    "input_folder = 'Initial'\n",
    "output_folder = \"resize\"\n",
    "\n",
    "file_list = os.listdir(input_folder)\n",
    "\n",
    "# 放大倍數\n",
    "scale_factor = 2.0\n",
    "\n",
    "for file_name in file_list:\n",
    "    if file_name.endswith(\".mp4\"):\n",
    "        input_file = os.path.join(input_folder, file_name)\n",
    "        output_file = os.path.join(output_folder, file_name)\n",
    "        video = VideoFileClip(input_file)\n",
    "        video_width, video_height = video.size\n",
    "        \n",
    "        # 計算要放大的區域範圍\n",
    "        start_x = int(video_width / 2 - video_width / (2 * scale_factor)) -75\n",
    "        start_y = int(video_height / 2 - video_height / (2 * scale_factor))\n",
    "        end_x = int(video_width / 2 + video_width / (2 * scale_factor)) -75\n",
    "        end_y = int(video_height / 2 + video_height / (2 * scale_factor))\n",
    "        \n",
    "        # 放大到 3840x2160 像素\n",
    "        resized_video = video.resize(width=3840, height=2160).crop(x1=start_x, y1=start_y, x2=end_x, y2=end_y)\n",
    "        \n",
    "        resized_video.write_videofile(output_file, codec=\"libx264\", audio_codec=\"aac\")\n"
   ]
  },
  {
   "cell_type": "code",
   "execution_count": null,
   "id": "12ebb78c-a9f3-4b34-8d7f-9eca6a54c81e",
   "metadata": {},
   "outputs": [],
   "source": []
  }
 ],
 "metadata": {
  "kernelspec": {
   "display_name": "Python 3 (ipykernel)",
   "language": "python",
   "name": "python3"
  },
  "language_info": {
   "codemirror_mode": {
    "name": "ipython",
    "version": 3
   },
   "file_extension": ".py",
   "mimetype": "text/x-python",
   "name": "python",
   "nbconvert_exporter": "python",
   "pygments_lexer": "ipython3",
   "version": "3.10.12"
  }
 },
 "nbformat": 4,
 "nbformat_minor": 5
}
