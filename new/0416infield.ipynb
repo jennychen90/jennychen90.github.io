{
 "cells": [
  {
   "cell_type": "code",
   "execution_count": 108,
   "id": "471e7d03-f509-4dbe-a08d-e11f83949ac8",
   "metadata": {},
   "outputs": [],
   "source": [
    "import numpy as np\n",
    "import cv2"
   ]
  },
  {
   "cell_type": "code",
   "execution_count": 109,
   "id": "761073d7-eaba-415d-8fe8-1375fd6e133b",
   "metadata": {},
   "outputs": [],
   "source": [
    "img = cv2.imread('01.jpg')"
   ]
  },
  {
   "cell_type": "code",
   "execution_count": 110,
   "id": "58de8c9b-86de-4682-8b0c-3850a5a9db4b",
   "metadata": {},
   "outputs": [],
   "source": [
    "img = cv2.resize(img, (3840, 2160), interpolation=cv2.INTER_AREA)"
   ]
  },
  {
   "cell_type": "code",
   "execution_count": 111,
   "id": "fba90205-63e6-4fa9-887a-2d07656dad4f",
   "metadata": {},
   "outputs": [
    {
     "data": {
      "text/plain": [
       "True"
      ]
     },
     "execution_count": 111,
     "metadata": {},
     "output_type": "execute_result"
    }
   ],
   "source": [
    "cv2.imwrite(\"img.jpg\",img)"
   ]
  },
  {
   "cell_type": "code",
   "execution_count": 112,
   "id": "d206f3e3-ff66-4725-9aa7-a31ffe8443b0",
   "metadata": {},
   "outputs": [],
   "source": [
    "img2 = cv2.imread('0416.jpg')"
   ]
  },
  {
   "cell_type": "code",
   "execution_count": 113,
   "id": "23059687-ae65-4077-bc2c-99f68de6f28a",
   "metadata": {},
   "outputs": [],
   "source": [
    "img = cv2.imread('img.jpg')\n",
    "img2 = cv2.imread('0416.jpg')"
   ]
  },
  {
   "cell_type": "code",
   "execution_count": 114,
   "id": "f1ed0732-784f-4feb-810f-9e57f0101acc",
   "metadata": {},
   "outputs": [],
   "source": [
    "dst_points = np.array([[1656., 1377.], [2625., 953.], [1635., 742.], [671., 964.]], dtype = \"float32\")#0514的點\n",
    "src_points = np.array([[1920., 1800.], [2221., 1568.], [1920., 1338.], [1620., 1568.]], dtype = \"float32\")#img的點\n",
    "M, _ = cv2.findHomography(src_points, dst_points)"
   ]
  },
  {
   "cell_type": "code",
   "execution_count": 115,
   "id": "1ecc4144-5bd2-4ebb-8ef2-51492acbb60c",
   "metadata": {},
   "outputs": [],
   "source": [
    "perspective = cv2.warpPerspective(img, M, (3840, 2160), cv2.INTER_LINEAR)\n",
    "perspective1 = cv2.warpPerspective(img2, M, (3840, 2160), cv2.INTER_LINEAR)"
   ]
  },
  {
   "cell_type": "code",
   "execution_count": 116,
   "id": "17532d76-8014-4bfe-b73d-6b6f78ee484a",
   "metadata": {},
   "outputs": [
    {
     "data": {
      "text/plain": [
       "True"
      ]
     },
     "execution_count": 116,
     "metadata": {},
     "output_type": "execute_result"
    }
   ],
   "source": [
    "cv2.imwrite(\"covert.jpg\",perspective)\n",
    "cv2.imwrite(\"covert2.jpg\",perspective1)"
   ]
  },
  {
   "cell_type": "code",
   "execution_count": 117,
   "id": "f4c663a0-c6f3-4f92-b29a-ccaf9b21e169",
   "metadata": {},
   "outputs": [
    {
     "data": {
      "text/plain": [
       "True"
      ]
     },
     "execution_count": 117,
     "metadata": {},
     "output_type": "execute_result"
    }
   ],
   "source": [
    "cv2.imwrite(\"covert.jpg\",img2)"
   ]
  },
  {
   "cell_type": "code",
   "execution_count": 118,
   "id": "959cc840-a5c5-40d7-be07-2561f1e09ee9",
   "metadata": {},
   "outputs": [],
   "source": [
    "pts = np.array([[[1221,576]]],dtype=\"float32\")"
   ]
  },
  {
   "cell_type": "code",
   "execution_count": 119,
   "id": "6b75dc4b-a9e6-4b9c-9f09-f9481f084807",
   "metadata": {},
   "outputs": [],
   "source": [
    "img = cv2.imread('img.jpg')"
   ]
  },
  {
   "cell_type": "code",
   "execution_count": 120,
   "id": "6a7a520d-262c-4010-8d36-02fe333121cd",
   "metadata": {},
   "outputs": [],
   "source": [
    "#int(cv2.findHomography(pts, M)[0][0][0]) ,int(cv2.findHomography(pts, M)[0][0][1])"
   ]
  },
  {
   "cell_type": "code",
   "execution_count": 121,
   "id": "2b3ec9c0-28ac-472f-82d0-9a3a71141017",
   "metadata": {},
   "outputs": [],
   "source": [
    "points = (1378 , 282)"
   ]
  },
  {
   "cell_type": "code",
   "execution_count": 122,
   "id": "fa073924-f642-4160-b546-ba290f8deadb",
   "metadata": {},
   "outputs": [],
   "source": [
    "point_size = 10\n",
    "point_color = (0, 0, 255)\n",
    "thickness = 4"
   ]
  },
  {
   "cell_type": "code",
   "execution_count": 123,
   "id": "93f05ff5-993b-463c-b20c-7fb63d392ffa",
   "metadata": {},
   "outputs": [],
   "source": [
    "img = cv2.circle(img, points, point_size, point_color, thickness)"
   ]
  },
  {
   "cell_type": "code",
   "execution_count": 124,
   "id": "449546c6-d0cd-484f-9d6d-f7cd318b3a12",
   "metadata": {},
   "outputs": [
    {
     "data": {
      "text/plain": [
       "True"
      ]
     },
     "execution_count": 124,
     "metadata": {},
     "output_type": "execute_result"
    }
   ],
   "source": [
    "cv2.imwrite(\"new0416in.jpg\",img)"
   ]
  },
  {
   "cell_type": "code",
   "execution_count": 125,
   "id": "1ec69387-5368-40d5-b8c3-d2edb9bdfd03",
   "metadata": {},
   "outputs": [],
   "source": [
    "img = cv2.circle(img, points, point_size, point_color, thickness)\n"
   ]
  },
  {
   "cell_type": "code",
   "execution_count": 126,
   "id": "9f364972-c273-4b86-836d-8e47b7cdd595",
   "metadata": {},
   "outputs": [
    {
     "data": {
      "text/plain": [
       "True"
      ]
     },
     "execution_count": 126,
     "metadata": {},
     "output_type": "execute_result"
    }
   ],
   "source": [
    "import numpy as np\n",
    "import cv2\n",
    "\n",
    "img = cv2.imread('img.jpg')\n",
    "img2 = cv2.imread('0416.jpg')\n",
    "src_points = np.array([[1656., 1375.], [2625., 953.], [1635., 742.], [671., 964.]], dtype = \"float32\")#0514的點\n",
    "dst_points = np.array([[1920., 1800.], [2221., 1568.], [1920., 1338.], [1620., 1568.]], dtype = \"float32\")#img的點\n",
    "\n",
    "M, _ = cv2.findHomography(src_points, dst_points)\n",
    "\n",
    "perspective = cv2.warpPerspective(img, M, (3840, 2160), cv2.INTER_LINEAR)\n",
    "perspective1 = cv2.warpPerspective(img2, M, (3840, 2160), cv2.INTER_LINEAR)\n",
    "\n",
    "cv2.imwrite(\"covert.jpg\",perspective)\n",
    "cv2.imwrite(\"covert2.jpg\",perspective1)\n",
    "img = cv2.imread('img.jpg')\n",
    "cv2.imwrite(\"new0416in.jpg\",img)"
   ]
  },
  {
   "cell_type": "code",
   "execution_count": 127,
   "id": "f21fc843-9016-448c-8404-62f44021a099",
   "metadata": {},
   "outputs": [],
   "source": [
    "img1 = cv2.imread(\"covert2.jpg\")\n",
    "img = cv2.imread('img.jpg')\n",
    "h, w, _ = img1.shape\n",
    "\n",
    "img2 = cv2.resize(img, (w,h), interpolation=cv2.INTER_AREA)\n",
    "#print img1.shape, img2.shape\n",
    "#alpha，beta，gamma可调\n",
    "alpha = 0.7\n",
    "beta = 1-alpha\n",
    "gamma = 0\n",
    "img_add = cv2.addWeighted(img1, alpha, img2, beta, gamma)"
   ]
  },
  {
   "cell_type": "code",
   "execution_count": 128,
   "id": "9c2e50bc-eaa6-4fa1-9302-1ddc5c5844a6",
   "metadata": {},
   "outputs": [
    {
     "data": {
      "text/plain": [
       "True"
      ]
     },
     "execution_count": 128,
     "metadata": {},
     "output_type": "execute_result"
    }
   ],
   "source": [
    "cv2.imwrite(\"add0416in.jpg\",img_add)"
   ]
  },
  {
   "cell_type": "code",
   "execution_count": null,
   "id": "5a44724c-e9c0-42c1-ba54-6799d4bddcda",
   "metadata": {},
   "outputs": [],
   "source": []
  },
  {
   "cell_type": "code",
   "execution_count": null,
   "id": "90f277da-2aa2-4d68-ba91-d9f0f194ab29",
   "metadata": {},
   "outputs": [],
   "source": []
  }
 ],
 "metadata": {
  "kernelspec": {
   "display_name": "Python 3 (ipykernel)",
   "language": "python",
   "name": "python3"
  },
  "language_info": {
   "codemirror_mode": {
    "name": "ipython",
    "version": 3
   },
   "file_extension": ".py",
   "mimetype": "text/x-python",
   "name": "python",
   "nbconvert_exporter": "python",
   "pygments_lexer": "ipython3",
   "version": "3.10.6"
  }
 },
 "nbformat": 4,
 "nbformat_minor": 5
}
