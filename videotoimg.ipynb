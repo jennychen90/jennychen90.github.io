{
 "cells": [
  {
   "cell_type": "code",
   "execution_count": 3,
   "id": "40234615-9ee5-4e68-92aa-be29f91c1ad5",
   "metadata": {},
   "outputs": [
    {
     "name": "stdout",
     "output_type": "stream",
     "text": [
      "成功從資料夾擷取 852 張影格，儲存於 frames.\n"
     ]
    }
   ],
   "source": [
    "import cv2\n",
    "import os\n",
    "\n",
    "def extract_frames_from_video(video_path, output_folder):\n",
    "    # 開啟影片檔案\n",
    "    cap = cv2.VideoCapture(video_path)\n",
    "\n",
    "    # 確認影片是否成功開啟\n",
    "    if not cap.isOpened():\n",
    "        print(f\"無法開啟影片檔案: {video_path}\")\n",
    "        return\n",
    "\n",
    "    # 確認輸出資料夾是否存在，若不存在則建立\n",
    "    if not os.path.exists(output_folder):\n",
    "        os.makedirs(output_folder)\n",
    "\n",
    "    frame_count = 0\n",
    "    while True:\n",
    "        # 讀取影格\n",
    "        ret, frame = cap.read()\n",
    "\n",
    "        if not ret:\n",
    "            break\n",
    "\n",
    "        # 將影格存為圖片\n",
    "        frame_filename = os.path.join(output_folder, f\"frame_{frame_count:d}.jpg\")\n",
    "        cv2.imwrite(frame_filename, frame)\n",
    "\n",
    "        frame_count += 1\n",
    "\n",
    "    # 關閉影片檔案\n",
    "    cap.release()\n",
    "\n",
    "    return frame_count\n",
    "\n",
    "def extract_frames_from_folder(folder_path, output_root_folder):\n",
    "    # 確認輸出根資料夾是否存在，若不存在則建立\n",
    "    if not os.path.exists(output_root_folder):\n",
    "        os.makedirs(output_root_folder)\n",
    "\n",
    "    total_frames = 0\n",
    "    for filename in os.listdir(folder_path):\n",
    "        if filename.endswith(\".mp4\"):\n",
    "            video_path = os.path.join(folder_path, filename)\n",
    "            # 為每個影片建立獨立的輸出資料夾\n",
    "            output_folder = os.path.join(output_root_folder, os.path.splitext(filename)[0])\n",
    "            frames_extracted = extract_frames_from_video(video_path, output_folder)\n",
    "            total_frames += frames_extracted\n",
    "\n",
    "    print(f\"成功從資料夾擷取 {total_frames} 張影格，儲存於 {output_root_folder}.\")\n",
    "\n",
    "video_folder = \"resize\"\n",
    "output_root_folder = \"frames\"\n",
    "\n",
    "extract_frames_from_folder(video_folder, output_root_folder)\n"
   ]
  },
  {
   "cell_type": "code",
   "execution_count": null,
   "id": "fafacc75-67d4-4439-8804-1def1f4a3ae1",
   "metadata": {},
   "outputs": [],
   "source": []
  }
 ],
 "metadata": {
  "kernelspec": {
   "display_name": "Python 3 (ipykernel)",
   "language": "python",
   "name": "python3"
  },
  "language_info": {
   "codemirror_mode": {
    "name": "ipython",
    "version": 3
   },
   "file_extension": ".py",
   "mimetype": "text/x-python",
   "name": "python",
   "nbconvert_exporter": "python",
   "pygments_lexer": "ipython3",
   "version": "3.10.6"
  }
 },
 "nbformat": 4,
 "nbformat_minor": 5
}
